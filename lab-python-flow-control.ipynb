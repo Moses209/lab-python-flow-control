{
 "cells": [
  {
   "cell_type": "markdown",
   "id": "d3bfc191-8885-42ee-b0a0-bbab867c6f9f",
   "metadata": {
    "tags": []
   },
   "source": [
    "# Lab | Flow Control"
   ]
  },
  {
   "cell_type": "markdown",
   "id": "3851fcd1-cf98-4653-9c89-e003b7ec9400",
   "metadata": {},
   "source": [
    "## Exercise: Managing Customer Orders Optimized\n",
    "\n",
    "In the last lab, you were starting an online store that sells various products. To ensure smooth operations, you developed a program that manages customer orders and inventory.\n",
    "\n",
    "You did so without using flow control. Let's go a step further and improve this code.\n",
    "\n",
    "Follow the steps below to complete the exercise:\n",
    "\n",
    "1. Look at your code from the lab data structures, and improve repeated code with loops.\n",
    "\n",
    "2. Instead of asking the user to input the name of three products that a customer wants to order, do the following:\n",
    "    \n",
    "    a. Prompt the user to enter the name of a product that a customer wants to order.\n",
    "    \n",
    "    b. Add the product name to the \"customer_orders\" set.\n",
    "    \n",
    "    c. Ask the user if they want to add another product (yes/no).\n",
    "    \n",
    "    d. Continue the loop until the user does not want to add another product.\n",
    "\n",
    "3. Instead of updating the inventory by subtracting 1 from the quantity of each product, only do it for  the products that were ordered (those in \"customer_orders\")."
   ]
  },
  {
   "cell_type": "code",
   "execution_count": null,
   "id": "61e371fb-49e8-4db5-8324-f4025d5cf7e0",
   "metadata": {},
   "outputs": [],
   "source": [
    "for product in products:\n",
    "    quantity = int(input(f\"Enter quantity available for {product}: \"))\n",
    "    inventory [product] = quantity"
   ]
  },
  {
   "cell_type": "code",
   "execution_count": null,
   "id": "ceceb7ee-8a01-411e-9173-cfaf6a43ed0e",
   "metadata": {},
   "outputs": [],
   "source": [
    "for product, goods in inventory.items():\n",
    "    print(f\"{product title()}: {goods} remain\")"
   ]
  },
  {
   "cell_type": "code",
   "execution_count": null,
   "id": "bea878dd-fac0-4699-979e-b8a22929ddb8",
   "metadata": {},
   "outputs": [],
   "source": [
    "t-shirt: 5 remain"
   ]
  },
  {
   "cell_type": "code",
   "execution_count": null,
   "id": "39ad3aef-3363-4bf5-a349-09c744742319",
   "metadata": {},
   "outputs": [],
   "source": [
    "Mug: 3 remain"
   ]
  },
  {
   "cell_type": "code",
   "execution_count": null,
   "id": "749fece1-ae04-4110-b4fa-f59e96fab202",
   "metadata": {},
   "outputs": [],
   "source": [
    "hat: 4 remain"
   ]
  },
  {
   "cell_type": "code",
   "execution_count": null,
   "id": "9fbe1f85-2cf6-4b78-b9b0-f1921f148db9",
   "metadata": {},
   "outputs": [],
   "source": [
    "book: 6 remain"
   ]
  },
  {
   "cell_type": "code",
   "execution_count": null,
   "id": "3097fad2-f41c-4e1b-8cda-b8b464471bc5",
   "metadata": {},
   "outputs": [],
   "source": [
    "keychain: 7"
   ]
  },
  {
   "cell_type": "code",
   "execution_count": null,
   "id": "0c0a42f8-a423-4bc0-9953-5c9f07f0e6a2",
   "metadata": {},
   "outputs": [],
   "source": [
    "n = len(product)"
   ]
  },
  {
   "cell_type": "code",
   "execution_count": null,
   "id": "b90f358c-bfd7-47b2-b681-2e36bd989fdf",
   "metadata": {},
   "outputs": [],
   "source": [
    "n"
   ]
  },
  {
   "cell_type": "code",
   "execution_count": null,
   "id": "8977b253-bb32-4aea-ad7e-29f18823bee2",
   "metadata": {},
   "outputs": [],
   "source": []
  },
  {
   "cell_type": "code",
   "execution_count": null,
   "id": "61d7f3bc-e2d7-4bc5-ba19-958bd8e3f71d",
   "metadata": {},
   "outputs": [],
   "source": [
    "customer_orders = set()"
   ]
  },
  {
   "cell_type": "code",
   "execution_count": null,
   "id": "5321209e-b7ad-48dd-b177-2bc9226dca5b",
   "metadata": {},
   "outputs": [],
   "source": [
    "while True:\n",
    "    product = input(\"Enter the name of the product you want to order: \").lower()\n",
    "    if product in inventory:\n",
    "        customer_orders.add(product)\n",
    "    else:\n",
    "        print(\"unfortunately, we don't have the product.\")\n",
    "        another_product = input(\"Do you want to add another product? (yes/no): \").lower()\n",
    "        if another_product != 'yes':\n",
    "            break"
   ]
  },
  {
   "cell_type": "code",
   "execution_count": null,
   "id": "894fec4b-8405-417c-8406-ebae6988ecb8",
   "metadata": {},
   "outputs": [],
   "source": []
  },
  {
   "cell_type": "code",
   "execution_count": null,
   "id": "4348bce2-9d4d-4c2c-95c0-73118c4d20cf",
   "metadata": {},
   "outputs": [],
   "source": [
    "for product in costumers_order:\n",
    "    if inventory [product] > 0:\n",
    "        inventory [product] -= 1"
   ]
  },
  {
   "cell_type": "code",
   "execution_count": null,
   "id": "ae6fe47c-0631-41c0-8b1f-86864d8e6ec1",
   "metadata": {},
   "outputs": [],
   "source": []
  }
 ],
 "metadata": {
  "kernelspec": {
   "display_name": "Python 3 (ipykernel)",
   "language": "python",
   "name": "python3"
  },
  "language_info": {
   "codemirror_mode": {
    "name": "ipython",
    "version": 3
   },
   "file_extension": ".py",
   "mimetype": "text/x-python",
   "name": "python",
   "nbconvert_exporter": "python",
   "pygments_lexer": "ipython3",
   "version": "3.12.7"
  }
 },
 "nbformat": 4,
 "nbformat_minor": 5
}
